{
 "cells": [
  {
   "cell_type": "code",
   "execution_count": 101,
   "metadata": {
    "collapsed": true
   },
   "outputs": [],
   "source": [
    "import numpy as np\n",
    "import pandas as pd\n",
    "import matplotlib.pyplot as plt\n",
    "import scipy.io as sio\n",
    "import random as rnd\n",
    "%matplotlib inline"
   ]
  },
  {
   "cell_type": "code",
   "execution_count": 102,
   "metadata": {},
   "outputs": [
    {
     "data": {
      "text/plain": [
       "[-4, 4, 6, 60]"
      ]
     },
     "execution_count": 102,
     "metadata": {},
     "output_type": "execute_result"
    },
    {
     "data": {
      "image/png": "[encoded data removed]",
      "text/plain": [
       "<matplotlib.figure.Figure at 0x118560208>"
      ]
     },
     "metadata": {},
     "output_type": "display_data"
    }
   ],
   "source": [
    "data = sio.loadmat('dataset1.mat')\n",
    "X = data['X_trn']\n",
    "Y = data['Y_trn']\n",
    "Xtest = data['X_tst']\n",
    "Ytest = data['Y_tst']\n",
    "plt.plot(X, Y, \"g^\")\n",
    "plt.ylabel('output')\n",
    "plt.xlabel('input')\n",
    "plt.axis([-4,4,6,60])"
   ]
  },
  {
   "cell_type": "code",
   "execution_count": 103,
   "metadata": {
    "collapsed": true
   },
   "outputs": [],
   "source": [
    "def stochasticGradientDescent(X, y, m, theta, alpha, iters, r = 0.0001):\n",
    "    temp = np.matrix(np.zeros(theta.shape))\n",
    "    parameters = theta.ravel().shape[1]\n",
    "    cost = np.zeros(iters)\n",
    "    \n",
    "    for i in range(iters):\n",
    "        rand = rnd.sample(range(0,X.shape[0]-1), m)\n",
    "        newX = X[rand,:]\n",
    "        newY = Y[rand,:]\n",
    "                          \n",
    "        error = (newX * theta.T) - newY\n",
    "        \n",
    "        for j in range(parameters):\n",
    "            term = np.multiply(error, newX[:,j])\n",
    "            temp[0,j] = theta[0,j] - ((alpha / (r*(1+i)*len(newX))) * np.sum(term))\n",
    "            \n",
    "        theta = temp\n",
    "        cost[i] = computeCost(newX, newY, theta)\n",
    "        \n",
    "        if i % 50 == 0:\n",
    "            print(\"Loss iter\",i,\": \",cost[i])\n",
    "        \n",
    "    return theta, cost"
   ]
  },
  {
   "cell_type": "code",
   "execution_count": 104,
   "metadata": {
    "collapsed": true
   },
   "outputs": [],
   "source": [
    "def gradientDescent(X, y, theta, alpha, iters):\n",
    "    temp = np.matrix(np.zeros(theta.shape))\n",
    "    parameters = theta.ravel().shape[1]\n",
    "    cost = np.zeros(iters)\n",
    "    \n",
    "    for i in range(iters):\n",
    "        error = (X * theta.T) - y\n",
    "        \n",
    "        for j in range(parameters):\n",
    "            term = np.multiply(error, X[:,j])\n",
    "            temp[0,j] = theta[0,j] - ((alpha / len(X)) * np.sum(term))\n",
    "            \n",
    "        theta = temp\n",
    "        cost[i] = computeCost(X, y, theta)\n",
    "        \n",
    "        if i % 50 == 0:\n",
    "            print(\"Loss iter\",i,\": \",cost[i])\n",
    "        \n",
    "    return theta, cost"
   ]
  },
  {
   "cell_type": "code",
   "execution_count": 105,
   "metadata": {
    "collapsed": true
   },
   "outputs": [],
   "source": [
    "def computeCost(X, Y, theta):\n",
    "    inner = np.power(((X * theta.T) - Y), 2)\n",
    "    return np.sum(inner) / (2 * len(X))"
   ]
  },
  {
   "cell_type": "code",
   "execution_count": 106,
   "metadata": {
    "collapsed": true
   },
   "outputs": [],
   "source": [
    "def closedForm(X, Y):\n",
    "    xTransposeX = np.matmul(X.T, X)\n",
    "    xTransposeY = np.matmul(X.T, Y)\n",
    "    inv = np.linalg.pinv(xTransposeX)\n",
    "    return np.matmul(inv, xTransposeY)"
   ]
  },
  {
   "cell_type": "code",
   "execution_count": 107,
   "metadata": {
    "collapsed": true
   },
   "outputs": [],
   "source": [
    "def plotPrediction(xMin, xMax, xLabel, yLabel, f):\n",
    "    \n",
    "    fig, ax = plt.subplots(figsize=(12,8))\n",
    "    ax.plot(x, f, 'r', label='Prediction')\n",
    "    ax.scatter(data['X_trn'], data['Y_trn'], label='Traning Data')\n",
    "    ax.legend(loc=2)\n",
    "    ax.set_xlabel(xLabel)\n",
    "    ax.set_ylabel(yLabel)\n",
    "    ax.set_title('Predicted X vs. Y Size')"
   ]
  },
  {
   "cell_type": "markdown",
   "metadata": {},
   "source": [
    "# Stochastic gradient decent"
   ]
  },
  {
   "cell_type": "code",
   "execution_count": 108,
   "metadata": {
    "collapsed": true
   },
   "outputs": [],
   "source": [
    "X = np.matrix(X)\n",
    "Y = np.matrix(Y)\n",
    "theta = np.matrix(np.array([0,0]))"
   ]
  },
  {
   "cell_type": "markdown",
   "metadata": {},
   "source": [
    "# Dimensions of the X, Y and theta matrices."
   ]
  },
  {
   "cell_type": "code",
   "execution_count": 109,
   "metadata": {},
   "outputs": [],
   "source": [
    "ones = np.ones(X.shape, dtype=np.int)\n",
    "newX = np.append(ones, X, axis=1)\n"
   ]
  },
  {
   "cell_type": "code",
   "execution_count": 110,
   "metadata": {
    "scrolled": false
   },
   "outputs": [
    {
     "data": {
      "text/plain": [
       "((120, 2), (1, 2), (120, 1), (120, 1))"
      ]
     },
     "execution_count": 110,
     "metadata": {},
     "output_type": "execute_result"
    }
   ],
   "source": [
    "newX.shape, theta.shape, Y.shape, X.shape"
   ]
  },
  {
   "cell_type": "code",
   "execution_count": 111,
   "metadata": {},
   "outputs": [
    {
     "name": "stdout",
     "output_type": "stream",
     "text": [
      "Loss iter 0 :  163060.877914\n",
      "Loss iter 50 :  7.70568391251e+17\n",
      "Loss iter 100 :  8.42444378962e+12\n",
      "Loss iter 150 :  11311156474.6\n",
      "Loss iter 200 :  107498276.729\n",
      "Loss iter 250 :  3234452.35177\n",
      "Loss iter 300 :  151101.803793\n",
      "Loss iter 350 :  14605.3942889\n",
      "Loss iter 400 :  1545.45199828\n",
      "Loss iter 450 :  315.115994357\n",
      "Loss iter 500 :  74.2040727032\n",
      "Loss iter 550 :  33.3000368692\n",
      "Loss iter 600 :  57.7793466056\n",
      "Loss iter 650 :  75.7869011976\n",
      "Loss iter 700 :  16.267759622\n",
      "Loss iter 750 :  21.243165108\n",
      "Loss iter 800 :  29.3813583331\n",
      "Loss iter 850 :  17.1503398681\n",
      "Loss iter 900 :  20.3425694684\n",
      "Loss iter 950 :  26.1082031929\n"
     ]
    },
    {
     "data": {
      "image/png": "[encoded data removed]",
      "text/plain": [
       "<matplotlib.figure.Figure at 0x1184d82e8>"
      ]
     },
     "metadata": {},
     "output_type": "display_data"
    }
   ],
   "source": [
    "theta = np.matrix(np.array([0,0]))\n",
    "g, cost = stochasticGradientDescent(newX, Y, int(0.1* Y.shape[0]), theta, alpha=0.0008, iters=1000)\n",
    "\n",
    "x = np.linspace(X.min(), X.max(), 100)\n",
    "f = g[0, 0] + (g[0, 1] * x)\n",
    "plotPrediction(X.min(), X.max(), 'X', 'Y', f)"
   ]
  },
  {
   "cell_type": "markdown",
   "metadata": {},
   "source": [
    "Finally we can compute the cost (error) of the trained model using our fitted parameters."
   ]
  },
  {
   "cell_type": "code",
   "execution_count": 112,
   "metadata": {},
   "outputs": [
    {
     "data": {
      "text/plain": [
       "39.407775892302304"
      ]
     },
     "execution_count": 112,
     "metadata": {},
     "output_type": "execute_result"
    }
   ],
   "source": [
    "computeCost(newX, Y, g)"
   ]
  },
  {
   "cell_type": "code",
   "execution_count": 113,
   "metadata": {},
   "outputs": [
    {
     "data": {
      "image/png": "[encoded data removed]",
      "text/plain": [
       "<matplotlib.figure.Figure at 0x1184d8630>"
      ]
     },
     "metadata": {},
     "output_type": "display_data"
    }
   ],
   "source": [
    "sol = closedForm(newX, Y).T\n",
    "computeCost(newX, Y, sol)\n",
    "f = sol[0, 0] + (sol[0, 1] * x)\n",
    "plotPrediction(X.min(), X.max(), 'X', 'Y', f)"
   ]
  },
  {
   "cell_type": "markdown",
   "metadata": {},
   "source": [
    "# When n=2, 3 and 5"
   ]
  },
  {
   "cell_type": "code",
   "execution_count": 114,
   "metadata": {
    "collapsed": true
   },
   "outputs": [],
   "source": [
    "X2 = np.power(X, 2)\n",
    "X3 = np.power(X, 3)\n",
    "X4 = np.power(X, 4)\n",
    "X5 = np.power(X, 5)"
   ]
  },
  {
   "cell_type": "markdown",
   "metadata": {},
   "source": [
    "# When n = 2"
   ]
  },
  {
   "cell_type": "code",
   "execution_count": 115,
   "metadata": {},
   "outputs": [
    {
     "ename": "NameError",
     "evalue": "name 'y' is not defined",
     "output_type": "error",
     "traceback": [
      "\u001b[0;31m---------------------------------------------------------------------------\u001b[0m",
      "\u001b[0;31mNameError\u001b[0m                                 Traceback (most recent call last)",
      "\u001b[0;32m<ipython-input-115-3c4b87c42d08>\u001b[0m in \u001b[0;36m<module>\u001b[0;34m()\u001b[0m\n\u001b[1;32m      2\u001b[0m \u001b[0mXsqr\u001b[0m \u001b[0;34m=\u001b[0m \u001b[0mnp\u001b[0m\u001b[0;34m.\u001b[0m\u001b[0mconcatenate\u001b[0m\u001b[0;34m(\u001b[0m\u001b[0;34m(\u001b[0m\u001b[0mones\u001b[0m\u001b[0;34m,\u001b[0m \u001b[0mX2\u001b[0m\u001b[0;34m,\u001b[0m \u001b[0mX\u001b[0m\u001b[0;34m)\u001b[0m\u001b[0;34m,\u001b[0m \u001b[0maxis\u001b[0m\u001b[0;34m=\u001b[0m\u001b[0;36m1\u001b[0m\u001b[0;34m)\u001b[0m\u001b[0;34m\u001b[0m\u001b[0m\n\u001b[1;32m      3\u001b[0m \u001b[0mtheta\u001b[0m \u001b[0;34m=\u001b[0m \u001b[0mnp\u001b[0m\u001b[0;34m.\u001b[0m\u001b[0mmatrix\u001b[0m\u001b[0;34m(\u001b[0m\u001b[0mnp\u001b[0m\u001b[0;34m.\u001b[0m\u001b[0marray\u001b[0m\u001b[0;34m(\u001b[0m\u001b[0;34m[\u001b[0m\u001b[0;36m0\u001b[0m\u001b[0;34m,\u001b[0m\u001b[0;36m0\u001b[0m\u001b[0;34m,\u001b[0m\u001b[0;36m0\u001b[0m\u001b[0;34m]\u001b[0m\u001b[0;34m)\u001b[0m\u001b[0;34m)\u001b[0m\u001b[0;34m\u001b[0m\u001b[0m\n\u001b[0;32m----> 4\u001b[0;31m \u001b[0mg\u001b[0m\u001b[0;34m,\u001b[0m \u001b[0mcost\u001b[0m \u001b[0;34m=\u001b[0m \u001b[0mstochasticGradientDescent\u001b[0m\u001b[0;34m(\u001b[0m\u001b[0mXsqr\u001b[0m\u001b[0;34m,\u001b[0m \u001b[0my\u001b[0m\u001b[0;34m,\u001b[0m \u001b[0mint\u001b[0m\u001b[0;34m(\u001b[0m\u001b[0;36m0.1\u001b[0m\u001b[0;34m*\u001b[0m \u001b[0my\u001b[0m\u001b[0;34m.\u001b[0m\u001b[0mshape\u001b[0m\u001b[0;34m[\u001b[0m\u001b[0;36m0\u001b[0m\u001b[0;34m]\u001b[0m\u001b[0;34m)\u001b[0m\u001b[0;34m,\u001b[0m \u001b[0mtheta\u001b[0m\u001b[0;34m,\u001b[0m \u001b[0malpha\u001b[0m\u001b[0;34m=\u001b[0m\u001b[0;36m0.00064\u001b[0m\u001b[0;34m,\u001b[0m \u001b[0miters\u001b[0m\u001b[0;34m=\u001b[0m\u001b[0;36m1000\u001b[0m\u001b[0;34m)\u001b[0m\u001b[0;34m\u001b[0m\u001b[0m\n\u001b[0m\u001b[1;32m      5\u001b[0m \u001b[0mg\u001b[0m\u001b[0;34m\u001b[0m\u001b[0m\n\u001b[1;32m      6\u001b[0m \u001b[0mfSqr\u001b[0m \u001b[0;34m=\u001b[0m \u001b[0mgSqr\u001b[0m\u001b[0;34m[\u001b[0m\u001b[0;36m0\u001b[0m\u001b[0;34m,\u001b[0m \u001b[0;36m0\u001b[0m\u001b[0;34m]\u001b[0m \u001b[0;34m+\u001b[0m \u001b[0;34m(\u001b[0m\u001b[0mgSqr\u001b[0m\u001b[0;34m[\u001b[0m\u001b[0;36m0\u001b[0m\u001b[0;34m,\u001b[0m \u001b[0;36m1\u001b[0m\u001b[0;34m]\u001b[0m \u001b[0;34m*\u001b[0m \u001b[0mx\u001b[0m\u001b[0;34m**\u001b[0m\u001b[0;36m2\u001b[0m\u001b[0;34m)\u001b[0m \u001b[0;34m+\u001b[0m \u001b[0;34m(\u001b[0m\u001b[0mgSqr\u001b[0m\u001b[0;34m[\u001b[0m\u001b[0;36m0\u001b[0m\u001b[0;34m,\u001b[0m \u001b[0;36m2\u001b[0m\u001b[0;34m]\u001b[0m \u001b[0;34m*\u001b[0m \u001b[0mx\u001b[0m\u001b[0;34m)\u001b[0m\u001b[0;34m\u001b[0m\u001b[0m\n",
      "\u001b[0;31mNameError\u001b[0m: name 'y' is not defined"
     ]
    }
   ],
   "source": [
    "newX = np.append(ones, X, axis=1)\n",
    "Xsqr = np.concatenate((ones, X2, X), axis=1)\n",
    "theta = np.matrix(np.array([0,0,0]))\n",
    "g, cost = stochasticGradientDescent(Xsqr, y, int(0.1* y.shape[0]), theta, alpha=0.00064, iters=1000)\n",
    "g\n",
    "fSqr = gSqr[0, 0] + (gSqr[0, 1] * x**2) + (gSqr[0, 2] * x)\n",
    "plotPrediction(Xtest.min(), Xtest.max(), 'X-Square', 'Y-Square', fSqr)"
   ]
  },
  {
   "cell_type": "code",
   "execution_count": null,
   "metadata": {},
   "outputs": [],
   "source": [
    "sol = closedForm(Xsqr, Y).T\n",
    "computeCost(Xsqr, Y, sol)\n",
    "fSqr = sol[0, 0] + (sol[0, 1] * x**2) + (sol[0, 2] * x)\n",
    "plotPrediction(X.min(), X.max(), 'X', 'Y', fSqr)\n"
   ]
  },
  {
   "cell_type": "code",
   "execution_count": null,
   "metadata": {},
   "outputs": [],
   "source": [
    "computeCost(Xsqr, y, gsqr)"
   ]
  },
  {
   "cell_type": "code",
   "execution_count": null,
   "metadata": {},
   "outputs": [],
   "source": [
    "computeCost(Xsqr, y, sol)"
   ]
  },
  {
   "cell_type": "markdown",
   "metadata": {},
   "source": [
    "# When n=3"
   ]
  },
  {
   "cell_type": "code",
   "execution_count": null,
   "metadata": {},
   "outputs": [],
   "source": [
    "Xcube = np.concatenate((ones, X, X2, X3), axis=1)\n",
    "theta = np.matrix(np.array([0,0,0,0]))\n",
    "gCube, cost = stochasticGradientDescent(Xcube, y, int(0.1* y.shape[0]), theta, alpha=0.00000128, iters=10000)\n",
    "gCube\n",
    "fCube = gCube[0, 0] + (gCube[0, 3] * x) + (gCube[0, 2] * x**2) + (gCube[0, 1] * x**3)\n",
    "plotPrediction(-4, 4, 'X-Cube', 'Y-Cube', fCube)\n"
   ]
  },
  {
   "cell_type": "code",
   "execution_count": null,
   "metadata": {},
   "outputs": [],
   "source": [
    "sol = closedForm(Xcube, Y).T\n",
    "computeCost(Xcube, Y, sol)\n",
    "fCube = sol[0, 0] + (sol[0, 3] * x) + (sol[0, 2] * x**2) + (sol[0, 1] * x**3)\n",
    "plotPrediction(Xtest.min(), Xtest.max(), 'X-Cube', 'Y-Cube', fCube)"
   ]
  },
  {
   "cell_type": "code",
   "execution_count": null,
   "metadata": {},
   "outputs": [],
   "source": [
    "computeCost(Xcube, Y, sol)"
   ]
  },
  {
   "cell_type": "code",
   "execution_count": null,
   "metadata": {},
   "outputs": [],
   "source": [
    "computeCost(Xcube, Y, gCube)"
   ]
  },
  {
   "cell_type": "markdown",
   "metadata": {},
   "source": [
    "# For n=5,"
   ]
  },
  {
   "cell_type": "code",
   "execution_count": null,
   "metadata": {
    "scrolled": false
   },
   "outputs": [],
   "source": [
    "Xfive = np.concatenate((ones, X5, X4, X3, X2, X), axis=1)\n",
    "theta = np.matrix(np.array([0,0,0,0,0,0]))\n",
    "gFive, cost = stochasticGradientDescent(Xfive, y, int(0.1* y.shape[0]), theta, alpha=0.000000000128, iters=10000)\n",
    "fFive = gFive[0, 0] + (gFive[0, 1] * x) + (gFive[0, 4] * x**2) + (gFive[0, 3] * x**3) +(gFive[0, 2] * x**4) + (gFive[0, 1] * x**5)\n",
    "plotPrediction(Xtest.min(), Xtest.max(), 'X-Five', 'Y-Five', fFive)\n"
   ]
  },
  {
   "cell_type": "code",
   "execution_count": null,
   "metadata": {},
   "outputs": [],
   "source": [
    "sol = closedForm(Xfive, Y).T\n",
    "sol\n",
    "fFive = sol[0, 0] + (sol[0, 1] * x) + (sol[0, 4] * x**2) + (sol[0, 3] * x**3) +(sol[0, 2] * x**4) + (sol[0, 1] * x**5)\n",
    "plotPrediction(Xtest.min(), Xtest.max(), 'X-Five', 'Y-Five', fFive)"
   ]
  },
  {
   "cell_type": "code",
   "execution_count": null,
   "metadata": {},
   "outputs": [],
   "source": [
    "computeCost(Xfive, Y, gFive)"
   ]
  },
  {
   "cell_type": "code",
   "execution_count": null,
   "metadata": {},
   "outputs": [],
   "source": [
    "computeCost(Xfive, Y, sol)"
   ]
  },
  {
   "cell_type": "code",
   "execution_count": null,
   "metadata": {
    "collapsed": true
   },
   "outputs": [],
   "source": []
  }
 ],
 "metadata": {
  "kernelspec": {
   "display_name": "Python 3",
   "language": "python",
   "name": "python3"
  },
  "language_info": {
   "codemirror_mode": {
    "name": "ipython",
    "version": 3
   },
   "file_extension": ".py",
   "mimetype": "text/x-python",
   "name": "python",
   "nbconvert_exporter": "python",
   "pygments_lexer": "ipython3",
   "version": "3.6.1"
  }
 },
 "nbformat": 4,
 "nbformat_minor": 2
}
